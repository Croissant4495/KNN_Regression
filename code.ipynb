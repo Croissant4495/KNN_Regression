{
 "cells": [
  {
   "cell_type": "markdown",
   "id": "c48c84d8",
   "metadata": {},
   "source": [
    "## Assigment 1"
   ]
  },
  {
   "cell_type": "markdown",
   "id": "e284c596",
   "metadata": {},
   "source": [
    "### KNN - Classifier"
   ]
  },
  {
   "cell_type": "code",
   "execution_count": null,
   "id": "5c0b20e5",
   "metadata": {},
   "outputs": [],
   "source": [
    "# Insert Code Here"
   ]
  },
  {
   "cell_type": "markdown",
   "id": "6fbe4e72",
   "metadata": {},
   "source": [
    "### Linear Regression"
   ]
  },
  {
   "cell_type": "code",
   "execution_count": null,
   "id": "3f4ab947",
   "metadata": {},
   "outputs": [],
   "source": [
    "# Insert Code Here"
   ]
  }
 ],
 "metadata": {
  "kernelspec": {
   "display_name": "Python 3",
   "language": "python",
   "name": "python3"
  },
  "language_info": {
   "name": "python",
   "version": "3.12.0"
  }
 },
 "nbformat": 4,
 "nbformat_minor": 5
}
