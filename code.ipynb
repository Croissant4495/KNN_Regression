{
 "cells": [
  {
   "cell_type": "markdown",
   "id": "c48c84d8",
   "metadata": {},
   "source": [
    "## Assigment 1"
   ]
  },
  {
   "cell_type": "code",
   "execution_count": 15,
   "id": "a4533d43",
   "metadata": {},
   "outputs": [],
   "source": [
    "# Imports\n",
    "import numpy as np\n",
    "import pandas as pd\n",
    "import matplotlib.pyplot as plt\n",
    "from sklearn.model_selection import train_test_split\n",
    "from sklearn.linear_model import Ridge, LinearRegression, Lasso\n",
    "from sklearn.metrics import mean_absolute_error, mean_squared_error\n",
    "\n",
    "import data_preprocessing\n",
    "from Linear import LinearRegressor"
   ]
  },
  {
   "cell_type": "markdown",
   "id": "e284c596",
   "metadata": {},
   "source": [
    "### KNN - Classifier"
   ]
  },
  {
   "cell_type": "code",
   "execution_count": null,
   "id": "5c0b20e5",
   "metadata": {},
   "outputs": [],
   "source": [
    "# Insert Code Here"
   ]
  },
  {
   "cell_type": "markdown",
   "id": "6fbe4e72",
   "metadata": {},
   "source": [
    "### Linear Regression"
   ]
  },
  {
   "cell_type": "code",
   "execution_count": 2,
   "id": "3d8d42a7",
   "metadata": {},
   "outputs": [],
   "source": [
    "# Data\n",
    "x_train, t_train = data_preprocessing.get_training_data()\n",
    "x_validation, t_validation = data_preprocessing.get_validation_data()\n",
    "x_test, t_test = data_preprocessing.get_test_data()"
   ]
  },
  {
   "cell_type": "code",
   "execution_count": 13,
   "id": "9eea0a82",
   "metadata": {},
   "outputs": [],
   "source": [
    "# Array to hold the MSE and MAE for each model\n",
    "losses = []\n",
    "models = []"
   ]
  },
  {
   "cell_type": "markdown",
   "id": "b9635ab1",
   "metadata": {},
   "source": [
    "Manual Linear Regression (Direct Solution)"
   ]
  },
  {
   "cell_type": "code",
   "execution_count": null,
   "id": "5fd43611",
   "metadata": {},
   "outputs": [
    {
     "name": "stdout",
     "output_type": "stream",
     "text": [
      "Validation MSE: 0.33, MAE: 0.42\n"
     ]
    }
   ],
   "source": [
    "Model1 = LinearRegressor(x_train, t_train, x_train.shape[1])\n",
    "Model1.calc_direct_sol()\n",
    "error, mse, mae = Model1.calc_loss(x_validation, t_validation)\n",
    "print(f\"Validation MSE: {mse:.2f}, MAE: {mae:.2f}\")\n",
    "losses.append(('Linear Direct Solution', mse, mae))\n",
    "models.append(Model1)"
   ]
  },
  {
   "cell_type": "markdown",
   "id": "de4e5e90",
   "metadata": {},
   "source": [
    "Manual Linear Regression (Gradient Descent)"
   ]
  },
  {
   "cell_type": "code",
   "execution_count": null,
   "id": "3f4ab947",
   "metadata": {},
   "outputs": [
    {
     "name": "stdout",
     "output_type": "stream",
     "text": [
      "Iteration 0: MSE = 1.00, MAE = 0.79\n",
      "Iteration 100: MSE = 0.39, MAE = 0.47\n",
      "Iteration 200: MSE = 0.38, MAE = 0.46\n",
      "Iteration 300: MSE = 0.37, MAE = 0.45\n",
      "Iteration 400: MSE = 0.37, MAE = 0.45\n",
      "Iteration 500: MSE = 0.37, MAE = 0.44\n",
      "Iteration 600: MSE = 0.36, MAE = 0.44\n",
      "Iteration 700: MSE = 0.36, MAE = 0.44\n",
      "Iteration 800: MSE = 0.36, MAE = 0.44\n",
      "Iteration 900: MSE = 0.36, MAE = 0.44\n",
      "Validation MSE: 0.33, MAE: 0.43\n"
     ]
    }
   ],
   "source": [
    "Model2 = LinearRegressor(x_train, t_train, x_train.shape[1])\n",
    "Model2.optimize_gd(learning_rate=0.01, max_iter=1000, tolerance=0.001)\n",
    "error, mse, mae = Model2.calc_loss(x_validation, t_validation)\n",
    "losses.append(('Linear Gradient Descent', mse, mae))\n",
    "print(f\"Validation MSE: {mse:.2f}, MAE: {mae:.2f}\")\n",
    "models.append(Model2)"
   ]
  },
  {
   "cell_type": "code",
   "execution_count": null,
   "id": "444816ea",
   "metadata": {},
   "outputs": [],
   "source": [
    "# Chooosing best learning rate\n",
    "learning_rates= [0.001, 0.002, 0.004, 0.008, 0.016, 0.032, 0.064, 0.128]\n"
   ]
  },
  {
   "cell_type": "markdown",
   "id": "a133b4df",
   "metadata": {},
   "source": [
    "Scikit-Learn Linear Regression"
   ]
  },
  {
   "cell_type": "code",
   "execution_count": null,
   "id": "4ef0c84e",
   "metadata": {},
   "outputs": [
    {
     "name": "stdout",
     "output_type": "stream",
     "text": [
      "Validation MSE: 0.33, MAE: 0.42\n"
     ]
    }
   ],
   "source": [
    "Model3 = LinearRegression()\n",
    "Model3.fit(x_train, t_train)\n",
    "y_val = Model3.predict(x_validation)\n",
    "mse= mean_squared_error(t_validation, y_val)\n",
    "mae= mean_absolute_error(t_validation, y_val)\n",
    "print(f\"Validation MSE: {mse:.2f}, MAE: {mae:.2f}\")\n",
    "losses.append(('Scikit-Learn Linear Regression', mse, mae))\n",
    "models.append(Model3)"
   ]
  },
  {
   "cell_type": "markdown",
   "id": "0a354e10",
   "metadata": {},
   "source": [
    "### Lasso Regression"
   ]
  },
  {
   "cell_type": "markdown",
   "id": "f4ad8bba",
   "metadata": {},
   "source": [
    "Scikit-Learn"
   ]
  },
  {
   "cell_type": "code",
   "execution_count": 19,
   "id": "92a18978",
   "metadata": {},
   "outputs": [
    {
     "name": "stdout",
     "output_type": "stream",
     "text": [
      "Validation MSE: 0.42, MAE: 0.49\n"
     ]
    }
   ],
   "source": [
    "Model4 = Lasso(alpha=0.1)\n",
    "Model4.fit(x_train, t_train)\n",
    "y_val = Model4.predict(x_validation)\n",
    "mse= mean_squared_error(t_validation, y_val)\n",
    "mae= mean_absolute_error(t_validation, y_val)\n",
    "print(f\"Validation MSE: {mse:.2f}, MAE: {mae:.2f}\")"
   ]
  },
  {
   "cell_type": "markdown",
   "id": "dd5899cc",
   "metadata": {},
   "source": [
    "Choosing best Regularization parameter"
   ]
  },
  {
   "cell_type": "code",
   "execution_count": null,
   "id": "6a9361cb",
   "metadata": {},
   "outputs": [
    {
     "name": "stdout",
     "output_type": "stream",
     "text": [
      "Training Lasso Regression with lambda=0.0001\n",
      "Validation MSE: 0.33, MAE: 0.42 for lambda=0.0001\n",
      "Training Lasso Regression with lambda=0.001\n",
      "Validation MSE: 0.33, MAE: 0.42 for lambda=0.001\n",
      "Training Lasso Regression with lambda=0.01\n",
      "Validation MSE: 0.34, MAE: 0.43 for lambda=0.01\n",
      "Training Lasso Regression with lambda=0.1\n",
      "Validation MSE: 0.42, MAE: 0.49 for lambda=0.1\n",
      "Training Lasso Regression with lambda=1\n",
      "Validation MSE: 0.99, MAE: 0.79 for lambda=1\n",
      "Training Lasso Regression with lambda=10\n",
      "Validation MSE: 0.99, MAE: 0.79 for lambda=10\n",
      "Training Lasso Regression with lambda=100\n",
      "Validation MSE: 0.99, MAE: 0.79 for lambda=100\n",
      "Training Lasso Regression with lambda=1000\n",
      "Validation MSE: 0.99, MAE: 0.79 for lambda=1000\n",
      "Best lambda: 0.0001 with MSE: 0.33 and MAE: 0.42\n"
     ]
    },
    {
     "name": "stderr",
     "output_type": "stream",
     "text": [
      "c:\\Users\\Abdel\\AppData\\Local\\Programs\\Python\\Python312\\Lib\\site-packages\\sklearn\\linear_model\\_coordinate_descent.py:697: ConvergenceWarning: Objective did not converge. You might want to increase the number of iterations, check the scale of the features or consider increasing regularisation. Duality gap: 1.428e+02, tolerance: 1.445e+00\n",
      "  model = cd_fast.enet_coordinate_descent(\n"
     ]
    },
    {
     "data": {
      "image/png": "[encoded data removed]",
      "text/plain": [
       "<Figure size 640x480 with 1 Axes>"
      ]
     },
     "metadata": {},
     "output_type": "display_data"
    }
   ],
   "source": [
    "lambdas= [0.0001, 0.001, 0.01, 0.1, 1, 10, 100, 1000]\n",
    "lassos = []\n",
    "for l in lambdas:\n",
    "    Model4 = Lasso(alpha=l, max_iter=10000)\n",
    "    print(f\"Training Lasso Regression with lambda={l}\")\n",
    "    Model4.fit(x_train, t_train)\n",
    "    y_val = Model4.predict(x_validation)\n",
    "    mse= mean_squared_error(t_validation, y_val)\n",
    "    mae= mean_absolute_error(t_validation, y_val)\n",
    "    print(f\"Validation MSE: {mse:.2f}, MAE: {mae:.2f} for lambda={l}\")\n",
    "    lassos.append((l, mse, mae))\n",
    "\n",
    "\n",
    "# Best lambda model\n",
    "best_lasso = min(lassos, key=lambda x: x[1])\n",
    "Model4 = Lasso(alpha=best_lasso[0])\n",
    "Model4.fit(x_train, t_train)\n",
    "print(f\"Best lambda: {best_lasso[0]} with MSE: {best_lasso[1]:.2f} and MAE: {best_lasso[2]:.2f}\")\n",
    "losses.append(('Scikit-Learn Lasso Regression', best_lasso[1], best_lasso[2]))\n",
    "models.append(Model4)\n",
    "\n",
    "# Plotting the losses\n",
    "model_names = [lassos[0] for lassos in lassos]\n",
    "mse_values = [lassos[1] for lassos in lassos]\n",
    "mae_values = [lassos[2] for lassos in lassos]\n",
    "\n",
    "x = np.arange(len(model_names))\n",
    "width = 0.35\n",
    "fig, ax = plt.subplots()\n",
    "rects1 = ax.bar(x - width/2, mse_values, width, label='MSE')\n",
    "rects2 = ax.bar(x + width/2, mae_values, width, label='MAE')\n",
    "ax.set_ylabel('Loss')\n",
    "ax.set_xlabel('Lambda Values')\n",
    "ax.set_title('Validation Loss for each lambda')\n",
    "ax.set_xticks(x)\n",
    "ax.set_xticklabels(model_names)\n",
    "ax.legend()\n",
    "plt.tight_layout()\n",
    "plt.show()\n"
   ]
  },
  {
   "cell_type": "markdown",
   "id": "1e65ab63",
   "metadata": {},
   "source": [
    "#### Ridge Regression"
   ]
  },
  {
   "cell_type": "code",
   "execution_count": null,
   "id": "6f0f0201",
   "metadata": {},
   "outputs": [],
   "source": []
  },
  {
   "cell_type": "code",
   "execution_count": null,
   "id": "ad94b1c4",
   "metadata": {},
   "outputs": [],
   "source": []
  }
 ],
 "metadata": {
  "kernelspec": {
   "display_name": "Python 3",
   "language": "python",
   "name": "python3"
  },
  "language_info": {
   "codemirror_mode": {
    "name": "ipython",
    "version": 3
   },
   "file_extension": ".py",
   "mimetype": "text/x-python",
   "name": "python",
   "nbconvert_exporter": "python",
   "pygments_lexer": "ipython3",
   "version": "3.12.0"
  }
 },
 "nbformat": 4,
 "nbformat_minor": 5
}
